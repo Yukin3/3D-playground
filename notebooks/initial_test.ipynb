{
 "cells": [
  {
   "cell_type": "code",
   "execution_count": null,
   "id": "d7f1eb4e",
   "metadata": {},
   "outputs": [],
   "source": [
    "#GPU info \n",
    "!nvidia-smi"
   ]
  },
  {
   "cell_type": "code",
   "execution_count": null,
   "id": "5cae1bdd",
   "metadata": {},
   "outputs": [],
   "source": [
    "# Install core dependencies\n",
    "!pip install -q diffusers transformers accelerate trimesh open3d\n",
    "\n",
    "# Git LFS setup\n",
    "!apt-get -qq install git-lfs\n",
    "!git lfs install"
   ]
  },
  {
   "cell_type": "code",
   "execution_count": null,
   "id": "ceb04732",
   "metadata": {},
   "outputs": [],
   "source": [
    "# Clone  model repo\n",
    "!git clone https://huggingface.co/tencent/Hunyuan3D-2"
   ]
  },
  {
   "cell_type": "code",
   "execution_count": null,
   "id": "8ed68432",
   "metadata": {},
   "outputs": [],
   "source": [
    "#Upload test image\n",
    "from google.colab import files\n",
    "uploaded = files.upload()\n",
    "image_path = list(uploaded.keys())[0]\n",
    "print(f\"Using image: {image_path}\")"
   ]
  },
  {
   "cell_type": "code",
   "execution_count": null,
   "id": "5c3118f7",
   "metadata": {},
   "outputs": [],
   "source": [
    "import sys\n",
    "sys.path.append('/content/Hunyuan3D-2')\n",
    "\n",
    "from hy3dgen.shapegen import Hunyuan3DDiTFlowMatchingPipeline\n",
    "from hy3dgen.texgen import Hunyuan3DPaintPipeline\n",
    "\n",
    "# Load and run mesh generation\n",
    "shape_pipeline = Hunyuan3DDiTFlowMatchingPipeline.from_pretrained(\"/content/Hunyuan3D-2\")\n",
    "mesh = shape_pipeline(image=image_path)[0]\n",
    "\n",
    "# Run texture generation\n",
    "paint_pipeline = Hunyuan3DPaintPipeline.from_pretrained(\"/content/Hunyuan3D-2\")\n",
    "textured_mesh = paint_pipeline(mesh, image=image_path)\n",
    "\n",
    "print(\"✅ 3D model generation complete.\")\n"
   ]
  },
  {
   "cell_type": "code",
   "execution_count": null,
   "id": "7440d3ef",
   "metadata": {},
   "outputs": [],
   "source": [
    "output_path = \"output_model.glb\"\n",
    "textured_mesh.export(output_path)\n",
    "\n",
    "from google.colab import files\n",
    "files.download(output_path)"
   ]
  }
 ],
 "metadata": {
  "language_info": {
   "name": "python"
  }
 },
 "nbformat": 4,
 "nbformat_minor": 5
}
